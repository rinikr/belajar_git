{
 "cells": [
  {
   "cell_type": "code",
   "execution_count": 1,
   "id": "d71975cc",
   "metadata": {
    "executionInfo": {
     "elapsed": 1423,
     "status": "ok",
     "timestamp": 1682599865561,
     "user": {
      "displayName": "intern ds",
      "userId": "01515883600503928621"
     },
     "user_tz": -420
    },
    "id": "d71975cc"
   },
   "outputs": [],
   "source": [
    "import pandas as pd\n",
    "import numpy as np\n",
    "import matplotlib.pyplot as plt\n",
    "import seaborn as sns"
   ]
  },
  {
   "cell_type": "markdown",
   "id": "40fbabb2",
   "metadata": {
    "id": "40fbabb2"
   },
   "source": [
    "### Import Data"
   ]
  },
  {
   "cell_type": "code",
   "execution_count": 2,
   "id": "xyn0Eufj1OxB",
   "metadata": {
    "id": "xyn0Eufj1OxB"
   },
   "outputs": [],
   "source": [
    "df =pd.read_csv( \"diamonds_hw.csv\")"
   ]
  },
  {
   "cell_type": "code",
   "execution_count": 3,
   "id": "bf77efce",
   "metadata": {},
   "outputs": [
    {
     "data": {
      "text/html": [
       "<div>\n",
       "<style scoped>\n",
       "    .dataframe tbody tr th:only-of-type {\n",
       "        vertical-align: middle;\n",
       "    }\n",
       "\n",
       "    .dataframe tbody tr th {\n",
       "        vertical-align: top;\n",
       "    }\n",
       "\n",
       "    .dataframe thead th {\n",
       "        text-align: right;\n",
       "    }\n",
       "</style>\n",
       "<table border=\"1\" class=\"dataframe\">\n",
       "  <thead>\n",
       "    <tr style=\"text-align: right;\">\n",
       "      <th></th>\n",
       "      <th>carat</th>\n",
       "      <th>cut</th>\n",
       "      <th>color</th>\n",
       "      <th>clarity</th>\n",
       "      <th>depth</th>\n",
       "      <th>table</th>\n",
       "      <th>price</th>\n",
       "      <th>x</th>\n",
       "      <th>y</th>\n",
       "      <th>z</th>\n",
       "    </tr>\n",
       "  </thead>\n",
       "  <tbody>\n",
       "    <tr>\n",
       "      <th>0</th>\n",
       "      <td>0.23</td>\n",
       "      <td>Ideal</td>\n",
       "      <td>E</td>\n",
       "      <td>SI2</td>\n",
       "      <td>61.5</td>\n",
       "      <td>55.0</td>\n",
       "      <td>326</td>\n",
       "      <td>3.95</td>\n",
       "      <td>3.98</td>\n",
       "      <td>2.43</td>\n",
       "    </tr>\n",
       "    <tr>\n",
       "      <th>1</th>\n",
       "      <td>0.21</td>\n",
       "      <td>Premium</td>\n",
       "      <td>E</td>\n",
       "      <td>SI1</td>\n",
       "      <td>59.8</td>\n",
       "      <td>61.0</td>\n",
       "      <td>326</td>\n",
       "      <td>3.89</td>\n",
       "      <td>3.84</td>\n",
       "      <td>2.31</td>\n",
       "    </tr>\n",
       "    <tr>\n",
       "      <th>2</th>\n",
       "      <td>0.23</td>\n",
       "      <td>Good</td>\n",
       "      <td>E</td>\n",
       "      <td>VS1</td>\n",
       "      <td>56.9</td>\n",
       "      <td>65.0</td>\n",
       "      <td>327</td>\n",
       "      <td>4.05</td>\n",
       "      <td>4.07</td>\n",
       "      <td>2.31</td>\n",
       "    </tr>\n",
       "    <tr>\n",
       "      <th>3</th>\n",
       "      <td>0.29</td>\n",
       "      <td>Premium</td>\n",
       "      <td>I</td>\n",
       "      <td>VS2</td>\n",
       "      <td>62.4</td>\n",
       "      <td>58.0</td>\n",
       "      <td>334</td>\n",
       "      <td>4.20</td>\n",
       "      <td>4.23</td>\n",
       "      <td>2.63</td>\n",
       "    </tr>\n",
       "    <tr>\n",
       "      <th>4</th>\n",
       "      <td>0.31</td>\n",
       "      <td>Good</td>\n",
       "      <td>J</td>\n",
       "      <td>SI2</td>\n",
       "      <td>63.3</td>\n",
       "      <td>58.0</td>\n",
       "      <td>335</td>\n",
       "      <td>4.34</td>\n",
       "      <td>4.35</td>\n",
       "      <td>2.75</td>\n",
       "    </tr>\n",
       "  </tbody>\n",
       "</table>\n",
       "</div>"
      ],
      "text/plain": [
       "   carat      cut color clarity  depth  table  price     x     y     z\n",
       "0   0.23    Ideal     E     SI2   61.5   55.0    326  3.95  3.98  2.43\n",
       "1   0.21  Premium     E     SI1   59.8   61.0    326  3.89  3.84  2.31\n",
       "2   0.23     Good     E     VS1   56.9   65.0    327  4.05  4.07  2.31\n",
       "3   0.29  Premium     I     VS2   62.4   58.0    334  4.20  4.23  2.63\n",
       "4   0.31     Good     J     SI2   63.3   58.0    335  4.34  4.35  2.75"
      ]
     },
     "execution_count": 3,
     "metadata": {},
     "output_type": "execute_result"
    }
   ],
   "source": [
    "df.head()"
   ]
  },
  {
   "cell_type": "code",
   "execution_count": 4,
   "id": "b3a8f898",
   "metadata": {},
   "outputs": [
    {
     "name": "stdout",
     "output_type": "stream",
     "text": [
      "<class 'pandas.core.frame.DataFrame'>\n",
      "RangeIndex: 53940 entries, 0 to 53939\n",
      "Data columns (total 10 columns):\n",
      " #   Column   Non-Null Count  Dtype  \n",
      "---  ------   --------------  -----  \n",
      " 0   carat    53815 non-null  float64\n",
      " 1   cut      53940 non-null  object \n",
      " 2   color    53940 non-null  object \n",
      " 3   clarity  53940 non-null  object \n",
      " 4   depth    53940 non-null  float64\n",
      " 5   table    53940 non-null  float64\n",
      " 6   price    53940 non-null  int64  \n",
      " 7   x        53940 non-null  float64\n",
      " 8   y        53940 non-null  float64\n",
      " 9   z        53940 non-null  float64\n",
      "dtypes: float64(6), int64(1), object(3)\n",
      "memory usage: 4.1+ MB\n"
     ]
    }
   ],
   "source": [
    "df.info()"
   ]
  },
  {
   "cell_type": "markdown",
   "id": "2b12f321",
   "metadata": {
    "id": "2b12f321"
   },
   "source": [
    "Kolom-kolom dari dataset 'diamonds.csv' memiliki definisi sebagai berikut:\n",
    "- price: price in US dollars ($326--$18,823)\n",
    "- carat: weight of the diamond (0.2--5.01)\n",
    "- cut: quality of the cut (Fair, Good, Very Good, Premium, Ideal)\n",
    "- color: diamond colour, from J (worst) to D (best)\n",
    "- clarity: a measurement of how clear the diamond is (I1 (worst), SI2, SI1, VS2, VS1, VVS2, VVS1, IF (best))\n",
    "- x: length in mm \n",
    "- y: width in mm \n",
    "- z: depth in mm \n",
    "- depth: total depth percentage = z / mean(x, y) = 2 * z / (x + y) \n",
    "- table: width of top of diamond relative to widest point\n"
   ]
  },
  {
   "cell_type": "markdown",
   "id": "f19a0ce2",
   "metadata": {
    "id": "f19a0ce2"
   },
   "source": [
    "### Soal:\n",
    "\n",
    "1. Terdapat beberapa kolom yang mengalami missing value. Tentukan metode terbaik untuk mengisi missing value pada kolom tersebut. Terapkan metode tersebut, dan berikan argumen Anda! (Tuliskan, \"saya memilih metode __ untuk mengisi missing value pada kolom __ karena ___). \n",
    "\n",
    "2. Berdasarkan informasi terkait kolom `clarity`, lakukanlah encoding yang sesuai (ubahlah kolom `clarity` dari kategorikal menjadi numerik). \n",
    "\n",
    "2. Buatlah visualisasi boxplot untuk memeriksa distribusi pada kolom-kolom 'x', 'y', dan 'z'. Apakah ada data-data yang outlier? Jika ya, apa saja outlier yang muncul? Berapa banyak baris yang mengalami outlier?"
   ]
  },
  {
   "cell_type": "markdown",
   "id": "14081fdf",
   "metadata": {
    "id": "14081fdf"
   },
   "source": [
    "#### Nomor 1:"
   ]
  },
  {
   "cell_type": "code",
   "execution_count": null,
   "id": "f30ba56b",
   "metadata": {
    "id": "f30ba56b"
   },
   "outputs": [],
   "source": [
    "#Dari df.info di ketahui bahwa terdapat missing value di kolom carat, untuk itu kolom ini akan dianalisa lebih lanjut"
   ]
  },
  {
   "cell_type": "code",
   "execution_count": 5,
   "id": "e39290c9",
   "metadata": {
    "id": "e39290c9"
   },
   "outputs": [
    {
     "data": {
      "text/html": [
       "<div>\n",
       "<style scoped>\n",
       "    .dataframe tbody tr th:only-of-type {\n",
       "        vertical-align: middle;\n",
       "    }\n",
       "\n",
       "    .dataframe tbody tr th {\n",
       "        vertical-align: top;\n",
       "    }\n",
       "\n",
       "    .dataframe thead th {\n",
       "        text-align: right;\n",
       "    }\n",
       "</style>\n",
       "<table border=\"1\" class=\"dataframe\">\n",
       "  <thead>\n",
       "    <tr style=\"text-align: right;\">\n",
       "      <th></th>\n",
       "      <th>carat</th>\n",
       "      <th>cut</th>\n",
       "      <th>color</th>\n",
       "      <th>clarity</th>\n",
       "      <th>depth</th>\n",
       "      <th>table</th>\n",
       "      <th>price</th>\n",
       "      <th>x</th>\n",
       "      <th>y</th>\n",
       "      <th>z</th>\n",
       "    </tr>\n",
       "  </thead>\n",
       "  <tbody>\n",
       "    <tr>\n",
       "      <th>194</th>\n",
       "      <td>NaN</td>\n",
       "      <td>Premium</td>\n",
       "      <td>E</td>\n",
       "      <td>SI1</td>\n",
       "      <td>61.2</td>\n",
       "      <td>57.0</td>\n",
       "      <td>2777</td>\n",
       "      <td>5.73</td>\n",
       "      <td>5.68</td>\n",
       "      <td>3.49</td>\n",
       "    </tr>\n",
       "    <tr>\n",
       "      <th>241</th>\n",
       "      <td>NaN</td>\n",
       "      <td>Fair</td>\n",
       "      <td>E</td>\n",
       "      <td>I1</td>\n",
       "      <td>64.5</td>\n",
       "      <td>58.0</td>\n",
       "      <td>2788</td>\n",
       "      <td>6.29</td>\n",
       "      <td>6.21</td>\n",
       "      <td>4.03</td>\n",
       "    </tr>\n",
       "    <tr>\n",
       "      <th>251</th>\n",
       "      <td>NaN</td>\n",
       "      <td>Good</td>\n",
       "      <td>G</td>\n",
       "      <td>SI2</td>\n",
       "      <td>61.0</td>\n",
       "      <td>61.0</td>\n",
       "      <td>2789</td>\n",
       "      <td>5.94</td>\n",
       "      <td>5.99</td>\n",
       "      <td>3.64</td>\n",
       "    </tr>\n",
       "    <tr>\n",
       "      <th>644</th>\n",
       "      <td>NaN</td>\n",
       "      <td>Very Good</td>\n",
       "      <td>F</td>\n",
       "      <td>SI2</td>\n",
       "      <td>63.2</td>\n",
       "      <td>58.0</td>\n",
       "      <td>2843</td>\n",
       "      <td>5.91</td>\n",
       "      <td>5.92</td>\n",
       "      <td>3.74</td>\n",
       "    </tr>\n",
       "    <tr>\n",
       "      <th>704</th>\n",
       "      <td>NaN</td>\n",
       "      <td>Fair</td>\n",
       "      <td>J</td>\n",
       "      <td>VS2</td>\n",
       "      <td>65.4</td>\n",
       "      <td>60.0</td>\n",
       "      <td>2854</td>\n",
       "      <td>6.04</td>\n",
       "      <td>6.00</td>\n",
       "      <td>3.94</td>\n",
       "    </tr>\n",
       "    <tr>\n",
       "      <th>...</th>\n",
       "      <td>...</td>\n",
       "      <td>...</td>\n",
       "      <td>...</td>\n",
       "      <td>...</td>\n",
       "      <td>...</td>\n",
       "      <td>...</td>\n",
       "      <td>...</td>\n",
       "      <td>...</td>\n",
       "      <td>...</td>\n",
       "      <td>...</td>\n",
       "    </tr>\n",
       "    <tr>\n",
       "      <th>50207</th>\n",
       "      <td>NaN</td>\n",
       "      <td>Ideal</td>\n",
       "      <td>F</td>\n",
       "      <td>VS1</td>\n",
       "      <td>60.3</td>\n",
       "      <td>57.0</td>\n",
       "      <td>2227</td>\n",
       "      <td>5.47</td>\n",
       "      <td>5.44</td>\n",
       "      <td>3.29</td>\n",
       "    </tr>\n",
       "    <tr>\n",
       "      <th>50559</th>\n",
       "      <td>NaN</td>\n",
       "      <td>Premium</td>\n",
       "      <td>H</td>\n",
       "      <td>SI1</td>\n",
       "      <td>62.7</td>\n",
       "      <td>59.0</td>\n",
       "      <td>2277</td>\n",
       "      <td>5.69</td>\n",
       "      <td>5.73</td>\n",
       "      <td>3.58</td>\n",
       "    </tr>\n",
       "    <tr>\n",
       "      <th>53019</th>\n",
       "      <td>NaN</td>\n",
       "      <td>Very Good</td>\n",
       "      <td>H</td>\n",
       "      <td>VS2</td>\n",
       "      <td>58.7</td>\n",
       "      <td>61.0</td>\n",
       "      <td>2599</td>\n",
       "      <td>5.96</td>\n",
       "      <td>5.99</td>\n",
       "      <td>3.51</td>\n",
       "    </tr>\n",
       "    <tr>\n",
       "      <th>53234</th>\n",
       "      <td>NaN</td>\n",
       "      <td>Ideal</td>\n",
       "      <td>F</td>\n",
       "      <td>SI1</td>\n",
       "      <td>61.9</td>\n",
       "      <td>57.0</td>\n",
       "      <td>2642</td>\n",
       "      <td>5.88</td>\n",
       "      <td>5.91</td>\n",
       "      <td>3.65</td>\n",
       "    </tr>\n",
       "    <tr>\n",
       "      <th>53309</th>\n",
       "      <td>NaN</td>\n",
       "      <td>Very Good</td>\n",
       "      <td>I</td>\n",
       "      <td>VVS1</td>\n",
       "      <td>62.5</td>\n",
       "      <td>60.0</td>\n",
       "      <td>552</td>\n",
       "      <td>4.24</td>\n",
       "      <td>4.27</td>\n",
       "      <td>2.66</td>\n",
       "    </tr>\n",
       "  </tbody>\n",
       "</table>\n",
       "<p>125 rows × 10 columns</p>\n",
       "</div>"
      ],
      "text/plain": [
       "       carat        cut color clarity  depth  table  price     x     y     z\n",
       "194      NaN    Premium     E     SI1   61.2   57.0   2777  5.73  5.68  3.49\n",
       "241      NaN       Fair     E      I1   64.5   58.0   2788  6.29  6.21  4.03\n",
       "251      NaN       Good     G     SI2   61.0   61.0   2789  5.94  5.99  3.64\n",
       "644      NaN  Very Good     F     SI2   63.2   58.0   2843  5.91  5.92  3.74\n",
       "704      NaN       Fair     J     VS2   65.4   60.0   2854  6.04  6.00  3.94\n",
       "...      ...        ...   ...     ...    ...    ...    ...   ...   ...   ...\n",
       "50207    NaN      Ideal     F     VS1   60.3   57.0   2227  5.47  5.44  3.29\n",
       "50559    NaN    Premium     H     SI1   62.7   59.0   2277  5.69  5.73  3.58\n",
       "53019    NaN  Very Good     H     VS2   58.7   61.0   2599  5.96  5.99  3.51\n",
       "53234    NaN      Ideal     F     SI1   61.9   57.0   2642  5.88  5.91  3.65\n",
       "53309    NaN  Very Good     I    VVS1   62.5   60.0    552  4.24  4.27  2.66\n",
       "\n",
       "[125 rows x 10 columns]"
      ]
     },
     "execution_count": 5,
     "metadata": {},
     "output_type": "execute_result"
    }
   ],
   "source": [
    "df[df.carat.isna()]"
   ]
  },
  {
   "cell_type": "code",
   "execution_count": null,
   "id": "d007e73a",
   "metadata": {},
   "outputs": [],
   "source": [
    "#Ada 125 rows yang missing, akan diisi dengan menganalisa outlier terlebih dahulu"
   ]
  },
  {
   "cell_type": "code",
   "execution_count": 6,
   "id": "abc386f3",
   "metadata": {},
   "outputs": [
    {
     "data": {
      "text/plain": [
       "<Axes: xlabel='carat'>"
      ]
     },
     "execution_count": 6,
     "metadata": {},
     "output_type": "execute_result"
    },
    {
     "data": {
      "image/png": "[encoded data removed]",
      "text/plain": [
       "<Figure size 640x480 with 1 Axes>"
      ]
     },
     "metadata": {},
     "output_type": "display_data"
    }
   ],
   "source": [
    "sns.boxplot(x=df.carat)"
   ]
  },
  {
   "cell_type": "code",
   "execution_count": null,
   "id": "c1552fb4",
   "metadata": {},
   "outputs": [],
   "source": [
    "#dari boxplotnya diketahui banyak outlier > 2, untuk itu kolom yang missing akan diisi dengan median"
   ]
  },
  {
   "cell_type": "code",
   "execution_count": 7,
   "id": "fa0d7272",
   "metadata": {},
   "outputs": [],
   "source": [
    "df.carat = df.carat.fillna(df.carat.median())"
   ]
  },
  {
   "cell_type": "code",
   "execution_count": 8,
   "id": "62ef517f",
   "metadata": {},
   "outputs": [
    {
     "name": "stdout",
     "output_type": "stream",
     "text": [
      "<class 'pandas.core.frame.DataFrame'>\n",
      "RangeIndex: 53940 entries, 0 to 53939\n",
      "Data columns (total 10 columns):\n",
      " #   Column   Non-Null Count  Dtype  \n",
      "---  ------   --------------  -----  \n",
      " 0   carat    53940 non-null  float64\n",
      " 1   cut      53940 non-null  object \n",
      " 2   color    53940 non-null  object \n",
      " 3   clarity  53940 non-null  object \n",
      " 4   depth    53940 non-null  float64\n",
      " 5   table    53940 non-null  float64\n",
      " 6   price    53940 non-null  int64  \n",
      " 7   x        53940 non-null  float64\n",
      " 8   y        53940 non-null  float64\n",
      " 9   z        53940 non-null  float64\n",
      "dtypes: float64(6), int64(1), object(3)\n",
      "memory usage: 4.1+ MB\n"
     ]
    }
   ],
   "source": [
    "df.info()"
   ]
  },
  {
   "cell_type": "code",
   "execution_count": null,
   "id": "e5b561b0",
   "metadata": {},
   "outputs": [],
   "source": [
    "#setelah diisi dengan median, kolom carat sudah sama jumlah rownya yang terisi dengan kolom lainnya yaitu 53940 rows"
   ]
  },
  {
   "cell_type": "markdown",
   "id": "94102700",
   "metadata": {
    "id": "94102700"
   },
   "source": [
    "Saya memilih metode diatas untuk mengisi missing value pada kolom 'carat' dengan median karena terdapat banyak outlier"
   ]
  },
  {
   "cell_type": "markdown",
   "id": "d5f3b7bc",
   "metadata": {
    "id": "d5f3b7bc"
   },
   "source": [
    "#### Nomor 2:"
   ]
  },
  {
   "cell_type": "code",
   "execution_count": 9,
   "id": "d7a20929",
   "metadata": {
    "id": "d7a20929"
   },
   "outputs": [
    {
     "data": {
      "text/plain": [
       "array(['SI2', 'SI1', 'VS1', 'VS2', 'VVS2', 'VVS1', 'I1', 'IF'],\n",
       "      dtype=object)"
      ]
     },
     "execution_count": 9,
     "metadata": {},
     "output_type": "execute_result"
    }
   ],
   "source": [
    "#Diketahui bahwa kolom clarity memiliki tingkatan terburuk hingga terbaik(I1 (worst), SI2, SI1, VS2, VS1, VVS2, VVS1, IF (best))\n",
    "df.clarity.unique()"
   ]
  },
  {
   "cell_type": "code",
   "execution_count": 10,
   "id": "d486453f",
   "metadata": {
    "id": "d486453f"
   },
   "outputs": [
    {
     "data": {
      "text/plain": [
       "[{'clarity': 'I1', 'clar_num': 1},\n",
       " {'clarity': 'SI2', 'clar_num': 2},\n",
       " {'clarity': 'SI1', 'clar_num': 3},\n",
       " {'clarity': 'VS2', 'clar_num': 4},\n",
       " {'clarity': 'VS1', 'clar_num': 5},\n",
       " {'clarity': 'VVS2', 'clar_num': 6},\n",
       " {'clarity': 'VVS1', 'clar_num': 7},\n",
       " {'clarity': 'IF', 'clar_num': 8}]"
      ]
     },
     "execution_count": 10,
     "metadata": {},
     "output_type": "execute_result"
    }
   ],
   "source": [
    "clar2num = [{\"clarity\":\"I1\", \"clar_num\":1},\n",
    "           {\"clarity\":\"SI2\", \"clar_num\":2},\n",
    "           {\"clarity\":\"SI1\", \"clar_num\":3},\n",
    "           {\"clarity\":\"VS2\", \"clar_num\":4},\n",
    "           {\"clarity\":\"VS1\", \"clar_num\":5},\n",
    "           {\"clarity\":\"VVS2\", \"clar_num\":6},\n",
    "           {\"clarity\":\"VVS1\", \"clar_num\":7},\n",
    "           {\"clarity\":\"IF\", \"clar_num\":8}]\n",
    "clar2num"
   ]
  },
  {
   "cell_type": "code",
   "execution_count": 11,
   "id": "aa0ec5e9",
   "metadata": {
    "id": "aa0ec5e9"
   },
   "outputs": [],
   "source": [
    "clar2num = pd.DataFrame(clar2num)"
   ]
  },
  {
   "cell_type": "code",
   "execution_count": 12,
   "id": "f0244bef",
   "metadata": {},
   "outputs": [
    {
     "data": {
      "text/html": [
       "<div>\n",
       "<style scoped>\n",
       "    .dataframe tbody tr th:only-of-type {\n",
       "        vertical-align: middle;\n",
       "    }\n",
       "\n",
       "    .dataframe tbody tr th {\n",
       "        vertical-align: top;\n",
       "    }\n",
       "\n",
       "    .dataframe thead th {\n",
       "        text-align: right;\n",
       "    }\n",
       "</style>\n",
       "<table border=\"1\" class=\"dataframe\">\n",
       "  <thead>\n",
       "    <tr style=\"text-align: right;\">\n",
       "      <th></th>\n",
       "      <th>carat</th>\n",
       "      <th>cut</th>\n",
       "      <th>color</th>\n",
       "      <th>clarity</th>\n",
       "      <th>depth</th>\n",
       "      <th>table</th>\n",
       "      <th>price</th>\n",
       "      <th>x</th>\n",
       "      <th>y</th>\n",
       "      <th>z</th>\n",
       "      <th>clar_num</th>\n",
       "    </tr>\n",
       "  </thead>\n",
       "  <tbody>\n",
       "    <tr>\n",
       "      <th>0</th>\n",
       "      <td>0.23</td>\n",
       "      <td>Ideal</td>\n",
       "      <td>E</td>\n",
       "      <td>SI2</td>\n",
       "      <td>61.5</td>\n",
       "      <td>55.0</td>\n",
       "      <td>326</td>\n",
       "      <td>3.95</td>\n",
       "      <td>3.98</td>\n",
       "      <td>2.43</td>\n",
       "      <td>2</td>\n",
       "    </tr>\n",
       "    <tr>\n",
       "      <th>1</th>\n",
       "      <td>0.31</td>\n",
       "      <td>Good</td>\n",
       "      <td>J</td>\n",
       "      <td>SI2</td>\n",
       "      <td>63.3</td>\n",
       "      <td>58.0</td>\n",
       "      <td>335</td>\n",
       "      <td>4.34</td>\n",
       "      <td>4.35</td>\n",
       "      <td>2.75</td>\n",
       "      <td>2</td>\n",
       "    </tr>\n",
       "    <tr>\n",
       "      <th>2</th>\n",
       "      <td>0.31</td>\n",
       "      <td>Ideal</td>\n",
       "      <td>J</td>\n",
       "      <td>SI2</td>\n",
       "      <td>62.2</td>\n",
       "      <td>54.0</td>\n",
       "      <td>344</td>\n",
       "      <td>4.35</td>\n",
       "      <td>4.37</td>\n",
       "      <td>2.71</td>\n",
       "      <td>2</td>\n",
       "    </tr>\n",
       "    <tr>\n",
       "      <th>3</th>\n",
       "      <td>0.20</td>\n",
       "      <td>Premium</td>\n",
       "      <td>E</td>\n",
       "      <td>SI2</td>\n",
       "      <td>60.2</td>\n",
       "      <td>62.0</td>\n",
       "      <td>345</td>\n",
       "      <td>3.79</td>\n",
       "      <td>3.75</td>\n",
       "      <td>2.27</td>\n",
       "      <td>2</td>\n",
       "    </tr>\n",
       "    <tr>\n",
       "      <th>4</th>\n",
       "      <td>0.30</td>\n",
       "      <td>Ideal</td>\n",
       "      <td>I</td>\n",
       "      <td>SI2</td>\n",
       "      <td>62.0</td>\n",
       "      <td>54.0</td>\n",
       "      <td>348</td>\n",
       "      <td>4.31</td>\n",
       "      <td>4.34</td>\n",
       "      <td>2.68</td>\n",
       "      <td>2</td>\n",
       "    </tr>\n",
       "    <tr>\n",
       "      <th>...</th>\n",
       "      <td>...</td>\n",
       "      <td>...</td>\n",
       "      <td>...</td>\n",
       "      <td>...</td>\n",
       "      <td>...</td>\n",
       "      <td>...</td>\n",
       "      <td>...</td>\n",
       "      <td>...</td>\n",
       "      <td>...</td>\n",
       "      <td>...</td>\n",
       "      <td>...</td>\n",
       "    </tr>\n",
       "    <tr>\n",
       "      <th>53935</th>\n",
       "      <td>0.54</td>\n",
       "      <td>Ideal</td>\n",
       "      <td>F</td>\n",
       "      <td>IF</td>\n",
       "      <td>62.2</td>\n",
       "      <td>54.0</td>\n",
       "      <td>2729</td>\n",
       "      <td>5.24</td>\n",
       "      <td>5.27</td>\n",
       "      <td>3.27</td>\n",
       "      <td>8</td>\n",
       "    </tr>\n",
       "    <tr>\n",
       "      <th>53936</th>\n",
       "      <td>0.51</td>\n",
       "      <td>Ideal</td>\n",
       "      <td>F</td>\n",
       "      <td>IF</td>\n",
       "      <td>62.5</td>\n",
       "      <td>54.0</td>\n",
       "      <td>2730</td>\n",
       "      <td>5.12</td>\n",
       "      <td>5.16</td>\n",
       "      <td>3.21</td>\n",
       "      <td>8</td>\n",
       "    </tr>\n",
       "    <tr>\n",
       "      <th>53937</th>\n",
       "      <td>0.52</td>\n",
       "      <td>Ideal</td>\n",
       "      <td>F</td>\n",
       "      <td>IF</td>\n",
       "      <td>61.7</td>\n",
       "      <td>57.0</td>\n",
       "      <td>2733</td>\n",
       "      <td>5.13</td>\n",
       "      <td>5.17</td>\n",
       "      <td>3.18</td>\n",
       "      <td>8</td>\n",
       "    </tr>\n",
       "    <tr>\n",
       "      <th>53938</th>\n",
       "      <td>0.52</td>\n",
       "      <td>Ideal</td>\n",
       "      <td>F</td>\n",
       "      <td>IF</td>\n",
       "      <td>61.5</td>\n",
       "      <td>57.0</td>\n",
       "      <td>2749</td>\n",
       "      <td>5.15</td>\n",
       "      <td>5.19</td>\n",
       "      <td>3.18</td>\n",
       "      <td>8</td>\n",
       "    </tr>\n",
       "    <tr>\n",
       "      <th>53939</th>\n",
       "      <td>0.57</td>\n",
       "      <td>Premium</td>\n",
       "      <td>E</td>\n",
       "      <td>IF</td>\n",
       "      <td>59.8</td>\n",
       "      <td>60.0</td>\n",
       "      <td>2753</td>\n",
       "      <td>5.43</td>\n",
       "      <td>5.38</td>\n",
       "      <td>3.23</td>\n",
       "      <td>8</td>\n",
       "    </tr>\n",
       "  </tbody>\n",
       "</table>\n",
       "<p>53940 rows × 11 columns</p>\n",
       "</div>"
      ],
      "text/plain": [
       "       carat      cut color clarity  depth  table  price     x     y     z  \\\n",
       "0       0.23    Ideal     E     SI2   61.5   55.0    326  3.95  3.98  2.43   \n",
       "1       0.31     Good     J     SI2   63.3   58.0    335  4.34  4.35  2.75   \n",
       "2       0.31    Ideal     J     SI2   62.2   54.0    344  4.35  4.37  2.71   \n",
       "3       0.20  Premium     E     SI2   60.2   62.0    345  3.79  3.75  2.27   \n",
       "4       0.30    Ideal     I     SI2   62.0   54.0    348  4.31  4.34  2.68   \n",
       "...      ...      ...   ...     ...    ...    ...    ...   ...   ...   ...   \n",
       "53935   0.54    Ideal     F      IF   62.2   54.0   2729  5.24  5.27  3.27   \n",
       "53936   0.51    Ideal     F      IF   62.5   54.0   2730  5.12  5.16  3.21   \n",
       "53937   0.52    Ideal     F      IF   61.7   57.0   2733  5.13  5.17  3.18   \n",
       "53938   0.52    Ideal     F      IF   61.5   57.0   2749  5.15  5.19  3.18   \n",
       "53939   0.57  Premium     E      IF   59.8   60.0   2753  5.43  5.38  3.23   \n",
       "\n",
       "       clar_num  \n",
       "0             2  \n",
       "1             2  \n",
       "2             2  \n",
       "3             2  \n",
       "4             2  \n",
       "...         ...  \n",
       "53935         8  \n",
       "53936         8  \n",
       "53937         8  \n",
       "53938         8  \n",
       "53939         8  \n",
       "\n",
       "[53940 rows x 11 columns]"
      ]
     },
     "execution_count": 12,
     "metadata": {},
     "output_type": "execute_result"
    }
   ],
   "source": [
    "pd.merge(df, clar2num, on=\"clarity\", how=\"inner\")"
   ]
  },
  {
   "cell_type": "markdown",
   "id": "ffe32772",
   "metadata": {
    "id": "ffe32772"
   },
   "source": [
    "#### Nomor 3:"
   ]
  },
  {
   "cell_type": "code",
   "execution_count": 13,
   "id": "250ecd71",
   "metadata": {},
   "outputs": [
    {
     "name": "stdout",
     "output_type": "stream",
     "text": [
      "<class 'pandas.core.frame.DataFrame'>\n",
      "RangeIndex: 53940 entries, 0 to 53939\n",
      "Data columns (total 10 columns):\n",
      " #   Column   Non-Null Count  Dtype  \n",
      "---  ------   --------------  -----  \n",
      " 0   carat    53940 non-null  float64\n",
      " 1   cut      53940 non-null  object \n",
      " 2   color    53940 non-null  object \n",
      " 3   clarity  53940 non-null  object \n",
      " 4   depth    53940 non-null  float64\n",
      " 5   table    53940 non-null  float64\n",
      " 6   price    53940 non-null  int64  \n",
      " 7   x        53940 non-null  float64\n",
      " 8   y        53940 non-null  float64\n",
      " 9   z        53940 non-null  float64\n",
      "dtypes: float64(6), int64(1), object(3)\n",
      "memory usage: 4.1+ MB\n"
     ]
    }
   ],
   "source": [
    "df.info()"
   ]
  },
  {
   "cell_type": "code",
   "execution_count": 14,
   "id": "a1e48035",
   "metadata": {
    "id": "a1e48035"
   },
   "outputs": [
    {
     "data": {
      "text/plain": [
       "count    53940.000000\n",
       "mean         0.797664\n",
       "std          0.473517\n",
       "min          0.200000\n",
       "25%          0.400000\n",
       "50%          0.700000\n",
       "75%          1.040000\n",
       "max          5.010000\n",
       "Name: carat, dtype: float64"
      ]
     },
     "execution_count": 14,
     "metadata": {},
     "output_type": "execute_result"
    }
   ],
   "source": [
    "df.carat.describe()"
   ]
  },
  {
   "cell_type": "code",
   "execution_count": 15,
   "id": "7657e542",
   "metadata": {
    "id": "7657e542"
   },
   "outputs": [],
   "source": [
    "#mencari nilai quartil dari x\n",
    "q1, q2, q3 = df.x.quantile([0.25, 0.50, 0.75])"
   ]
  },
  {
   "cell_type": "code",
   "execution_count": 16,
   "id": "9f0df741",
   "metadata": {
    "id": "9f0df741"
   },
   "outputs": [
    {
     "data": {
      "text/plain": [
       "4.71"
      ]
     },
     "execution_count": 16,
     "metadata": {},
     "output_type": "execute_result"
    }
   ],
   "source": [
    "q1"
   ]
  },
  {
   "cell_type": "code",
   "execution_count": 17,
   "id": "7ea4b5d8",
   "metadata": {
    "id": "7ea4b5d8"
   },
   "outputs": [
    {
     "data": {
      "text/plain": [
       "5.7"
      ]
     },
     "execution_count": 17,
     "metadata": {},
     "output_type": "execute_result"
    }
   ],
   "source": [
    "q2"
   ]
  },
  {
   "cell_type": "code",
   "execution_count": 18,
   "id": "028473d9",
   "metadata": {
    "id": "028473d9"
   },
   "outputs": [
    {
     "data": {
      "text/plain": [
       "6.54"
      ]
     },
     "execution_count": 18,
     "metadata": {},
     "output_type": "execute_result"
    }
   ],
   "source": [
    "q3"
   ]
  },
  {
   "cell_type": "code",
   "execution_count": 19,
   "id": "63c3eb8e",
   "metadata": {},
   "outputs": [
    {
     "data": {
      "text/plain": [
       "1.83"
      ]
     },
     "execution_count": 19,
     "metadata": {},
     "output_type": "execute_result"
    }
   ],
   "source": [
    "iqr = q3 - q1\n",
    "iqr"
   ]
  },
  {
   "cell_type": "code",
   "execution_count": 20,
   "id": "53568d20",
   "metadata": {},
   "outputs": [
    {
     "data": {
      "text/plain": [
       "9.285"
      ]
     },
     "execution_count": 20,
     "metadata": {},
     "output_type": "execute_result"
    }
   ],
   "source": [
    "batasatas = q3 + 1.5*iqr\n",
    "batasatas"
   ]
  },
  {
   "cell_type": "code",
   "execution_count": 21,
   "id": "afa26c1c",
   "metadata": {},
   "outputs": [
    {
     "data": {
      "text/plain": [
       "1.9649999999999999"
      ]
     },
     "execution_count": 21,
     "metadata": {},
     "output_type": "execute_result"
    }
   ],
   "source": [
    "batasbawah = q1 - 1.5*iqr\n",
    "batasbawah"
   ]
  },
  {
   "cell_type": "code",
   "execution_count": 22,
   "id": "f8606f38",
   "metadata": {},
   "outputs": [
    {
     "data": {
      "text/plain": [
       "<Axes: xlabel='x'>"
      ]
     },
     "execution_count": 22,
     "metadata": {},
     "output_type": "execute_result"
    },
    {
     "data": {
      "image/png": "[encoded data removed]",
      "text/plain": [
       "<Figure size 640x480 with 1 Axes>"
      ]
     },
     "metadata": {},
     "output_type": "display_data"
    }
   ],
   "source": [
    "sns.boxplot(x=df[\"x\"])"
   ]
  },
  {
   "cell_type": "code",
   "execution_count": 23,
   "id": "519ec0a0",
   "metadata": {},
   "outputs": [
    {
     "name": "stdout",
     "output_type": "stream",
     "text": [
      "<class 'pandas.core.frame.DataFrame'>\n",
      "Index: 32 entries, 11182 to 49557\n",
      "Data columns (total 10 columns):\n",
      " #   Column   Non-Null Count  Dtype  \n",
      "---  ------   --------------  -----  \n",
      " 0   carat    32 non-null     float64\n",
      " 1   cut      32 non-null     object \n",
      " 2   color    32 non-null     object \n",
      " 3   clarity  32 non-null     object \n",
      " 4   depth    32 non-null     float64\n",
      " 5   table    32 non-null     float64\n",
      " 6   price    32 non-null     int64  \n",
      " 7   x        32 non-null     float64\n",
      " 8   y        32 non-null     float64\n",
      " 9   z        32 non-null     float64\n",
      "dtypes: float64(6), int64(1), object(3)\n",
      "memory usage: 2.8+ KB\n"
     ]
    }
   ],
   "source": [
    "xlier = df[(df['x']<batasbawah) | (df['x']>batasatas)]\n",
    "xlier.info()"
   ]
  },
  {
   "cell_type": "code",
   "execution_count": 24,
   "id": "6587cc35",
   "metadata": {},
   "outputs": [],
   "source": [
    "#mencari nilai quartil dari y\n",
    "q1, q2, q3 = df.y.quantile([0.25, 0.50, 0.75])"
   ]
  },
  {
   "cell_type": "code",
   "execution_count": 25,
   "id": "03e6e5eb",
   "metadata": {},
   "outputs": [
    {
     "data": {
      "text/plain": [
       "4.72"
      ]
     },
     "execution_count": 25,
     "metadata": {},
     "output_type": "execute_result"
    }
   ],
   "source": [
    "q1"
   ]
  },
  {
   "cell_type": "code",
   "execution_count": 26,
   "id": "5f1f66f8",
   "metadata": {},
   "outputs": [
    {
     "data": {
      "text/plain": [
       "5.71"
      ]
     },
     "execution_count": 26,
     "metadata": {},
     "output_type": "execute_result"
    }
   ],
   "source": [
    "q2"
   ]
  },
  {
   "cell_type": "code",
   "execution_count": 27,
   "id": "c5a8f95c",
   "metadata": {},
   "outputs": [
    {
     "data": {
      "text/plain": [
       "6.54"
      ]
     },
     "execution_count": 27,
     "metadata": {},
     "output_type": "execute_result"
    }
   ],
   "source": [
    "q3"
   ]
  },
  {
   "cell_type": "code",
   "execution_count": 28,
   "id": "6faafd7e",
   "metadata": {},
   "outputs": [
    {
     "data": {
      "text/plain": [
       "1.8200000000000003"
      ]
     },
     "execution_count": 28,
     "metadata": {},
     "output_type": "execute_result"
    }
   ],
   "source": [
    "iqr = q3 - q1\n",
    "iqr"
   ]
  },
  {
   "cell_type": "code",
   "execution_count": 29,
   "id": "53aaf76e",
   "metadata": {},
   "outputs": [
    {
     "data": {
      "text/plain": [
       "9.27"
      ]
     },
     "execution_count": 29,
     "metadata": {},
     "output_type": "execute_result"
    }
   ],
   "source": [
    "batasatas = q3 + 1.5*iqr\n",
    "batasatas"
   ]
  },
  {
   "cell_type": "code",
   "execution_count": 30,
   "id": "31392a29",
   "metadata": {},
   "outputs": [
    {
     "data": {
      "text/plain": [
       "1.9899999999999993"
      ]
     },
     "execution_count": 30,
     "metadata": {},
     "output_type": "execute_result"
    }
   ],
   "source": [
    "batasbawah = q1 - 1.5*iqr\n",
    "batasbawah"
   ]
  },
  {
   "cell_type": "code",
   "execution_count": 31,
   "id": "dc1cb423",
   "metadata": {},
   "outputs": [
    {
     "data": {
      "text/plain": [
       "<Axes: xlabel='y'>"
      ]
     },
     "execution_count": 31,
     "metadata": {},
     "output_type": "execute_result"
    },
    {
     "data": {
      "image/png": "[encoded data removed]",
      "text/plain": [
       "<Figure size 640x480 with 1 Axes>"
      ]
     },
     "metadata": {},
     "output_type": "display_data"
    }
   ],
   "source": [
    "sns.boxplot(x=df[\"y\"])"
   ]
  },
  {
   "cell_type": "code",
   "execution_count": 42,
   "id": "aaebbabf",
   "metadata": {},
   "outputs": [
    {
     "name": "stdout",
     "output_type": "stream",
     "text": [
      "<class 'pandas.core.frame.DataFrame'>\n",
      "Index: 26353 entries, 91 to 53939\n",
      "Data columns (total 10 columns):\n",
      " #   Column   Non-Null Count  Dtype  \n",
      "---  ------   --------------  -----  \n",
      " 0   carat    26353 non-null  float64\n",
      " 1   cut      26353 non-null  object \n",
      " 2   color    26353 non-null  object \n",
      " 3   clarity  26353 non-null  object \n",
      " 4   depth    26353 non-null  float64\n",
      " 5   table    26353 non-null  float64\n",
      " 6   price    26353 non-null  int64  \n",
      " 7   x        26353 non-null  float64\n",
      " 8   y        26353 non-null  float64\n",
      " 9   z        26353 non-null  float64\n",
      "dtypes: float64(6), int64(1), object(3)\n",
      "memory usage: 2.2+ MB\n"
     ]
    }
   ],
   "source": [
    "ylier = df[(df['y']<batasbawah) | (df['y']>batasatas)]\n",
    "ylier.info()"
   ]
  },
  {
   "cell_type": "code",
   "execution_count": 32,
   "id": "a8285c26",
   "metadata": {},
   "outputs": [],
   "source": [
    "#mencari nilai quartil dari z\n",
    "q1, q2, q3 = df.z.quantile([0.25, 0.50, 0.75])"
   ]
  },
  {
   "cell_type": "code",
   "execution_count": 33,
   "id": "491151e2",
   "metadata": {},
   "outputs": [
    {
     "data": {
      "text/plain": [
       "2.91"
      ]
     },
     "execution_count": 33,
     "metadata": {},
     "output_type": "execute_result"
    }
   ],
   "source": [
    "q1"
   ]
  },
  {
   "cell_type": "code",
   "execution_count": 34,
   "id": "737ccc35",
   "metadata": {},
   "outputs": [
    {
     "data": {
      "text/plain": [
       "3.53"
      ]
     },
     "execution_count": 34,
     "metadata": {},
     "output_type": "execute_result"
    }
   ],
   "source": [
    "q2"
   ]
  },
  {
   "cell_type": "code",
   "execution_count": 35,
   "id": "f2cefa5a",
   "metadata": {},
   "outputs": [
    {
     "data": {
      "text/plain": [
       "4.04"
      ]
     },
     "execution_count": 35,
     "metadata": {},
     "output_type": "execute_result"
    }
   ],
   "source": [
    "q3"
   ]
  },
  {
   "cell_type": "code",
   "execution_count": 36,
   "id": "0402fbdc",
   "metadata": {},
   "outputs": [
    {
     "data": {
      "text/plain": [
       "1.13"
      ]
     },
     "execution_count": 36,
     "metadata": {},
     "output_type": "execute_result"
    }
   ],
   "source": [
    "iqr = q3 - q1\n",
    "iqr"
   ]
  },
  {
   "cell_type": "code",
   "execution_count": 37,
   "id": "ecd5ec06",
   "metadata": {},
   "outputs": [
    {
     "data": {
      "text/plain": [
       "5.734999999999999"
      ]
     },
     "execution_count": 37,
     "metadata": {},
     "output_type": "execute_result"
    }
   ],
   "source": [
    "batasatas = q3 + 1.5*iqr\n",
    "batasatas"
   ]
  },
  {
   "cell_type": "code",
   "execution_count": 38,
   "id": "e2232529",
   "metadata": {},
   "outputs": [
    {
     "data": {
      "text/plain": [
       "1.2150000000000003"
      ]
     },
     "execution_count": 38,
     "metadata": {},
     "output_type": "execute_result"
    }
   ],
   "source": [
    "batasbawah = q1 - 1.5*iqr\n",
    "batasbawah"
   ]
  },
  {
   "cell_type": "code",
   "execution_count": 39,
   "id": "fb981de6",
   "metadata": {},
   "outputs": [
    {
     "data": {
      "text/plain": [
       "<Axes: xlabel='z'>"
      ]
     },
     "execution_count": 39,
     "metadata": {},
     "output_type": "execute_result"
    },
    {
     "data": {
      "image/png": "[encoded data removed]",
      "text/plain": [
       "<Figure size 640x480 with 1 Axes>"
      ]
     },
     "metadata": {},
     "output_type": "display_data"
    }
   ],
   "source": [
    "sns.boxplot(x=df[\"z\"])"
   ]
  },
  {
   "cell_type": "code",
   "execution_count": 43,
   "id": "bdff7325",
   "metadata": {},
   "outputs": [
    {
     "name": "stdout",
     "output_type": "stream",
     "text": [
      "<class 'pandas.core.frame.DataFrame'>\n",
      "Index: 49 entries, 2207 to 51506\n",
      "Data columns (total 10 columns):\n",
      " #   Column   Non-Null Count  Dtype  \n",
      "---  ------   --------------  -----  \n",
      " 0   carat    49 non-null     float64\n",
      " 1   cut      49 non-null     object \n",
      " 2   color    49 non-null     object \n",
      " 3   clarity  49 non-null     object \n",
      " 4   depth    49 non-null     float64\n",
      " 5   table    49 non-null     float64\n",
      " 6   price    49 non-null     int64  \n",
      " 7   x        49 non-null     float64\n",
      " 8   y        49 non-null     float64\n",
      " 9   z        49 non-null     float64\n",
      "dtypes: float64(6), int64(1), object(3)\n",
      "memory usage: 4.2+ KB\n"
     ]
    }
   ],
   "source": [
    "zlier = df[(df['z']<batasbawah) | (df['z']>batasatas)]\n",
    "zlier.info()"
   ]
  },
  {
   "cell_type": "code",
   "execution_count": null,
   "id": "9042299b",
   "metadata": {},
   "outputs": [],
   "source": [
    "Jadi pada boxplot kolom x,y,z terdapat outlier dibaris yang berbeda yaitu\n",
    "kolom x :batas bawahnya 1.9649999999999993, batas atasnya 9.285, dan outlier ada 32 baris,mulai dari baris 11182 ke baris 49557\n",
    "kolom y :batas bawahnya 1.9899999999999993, batas atasnya 9.27, dan outlier ada 26353 baris, dari baris 91 ke baris 53939\n",
    "kolom y :batas bawahnya 1.2150000000000003, batas atasnya 5.734999999999999, dan outlier ada 49 baris, dari baris 2207 ke baris 51506\n",
    "        "
   ]
  }
 ],
 "metadata": {
  "colab": {
   "provenance": []
  },
  "kernelspec": {
   "display_name": "Python 3 (ipykernel)",
   "language": "python",
   "name": "python3"
  },
  "language_info": {
   "codemirror_mode": {
    "name": "ipython",
    "version": 3
   },
   "file_extension": ".py",
   "mimetype": "text/x-python",
   "name": "python",
   "nbconvert_exporter": "python",
   "pygments_lexer": "ipython3",
   "version": "3.11.5"
  }
 },
 "nbformat": 4,
 "nbformat_minor": 5
}
